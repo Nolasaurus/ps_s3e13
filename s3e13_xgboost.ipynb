{
 "cells": [
  {
   "cell_type": "code",
   "execution_count": 12,
   "metadata": {},
   "outputs": [],
   "source": [
    "import matplotlib.pyplot as plt\n",
    "import pandas as pd\n",
    "import seaborn as sns\n",
    "\n",
    "train_df = pd.read_csv('data/train.csv')\n",
    "test_df = pd.read_csv('data/test.csv')\n",
    "\n",
    "X = train_df.drop(['prognosis'], axis=1)\n",
    "y = train_df['prognosis']\n",
    "\n",
    "# get the unique values in the 'prognosis' column as features\n",
    "features = train_df['prognosis'].unique()\n",
    "\n",
    "from sklearn.model_selection import train_test_split\n",
    "from sklearn.preprocessing import LabelEncoder\n",
    "\n",
    "# Encode the labels\n",
    "label_encoder = LabelEncoder()\n",
    "y_encoded = label_encoder.fit_transform(y)"
   ]
  },
  {
   "cell_type": "code",
   "execution_count": 39,
   "metadata": {},
   "outputs": [
    {
     "name": "stderr",
     "output_type": "stream",
     "text": [
      "/home/nolan/miniconda3/envs/ps_s3e13/lib/python3.11/site-packages/xgboost/sklearn.py:1395: UserWarning: `use_label_encoder` is deprecated in 1.7.0.\n",
      "  warnings.warn(\"`use_label_encoder` is deprecated in 1.7.0.\")\n"
     ]
    }
   ],
   "source": [
    "\n",
    "import xgboost\n",
    "# train the model\n",
    "xgb_classifier = xgb.XGBClassifier(use_label_encoder=False, objective=\"multi:softmax\", eval_metric=\"mlogloss\", random_state=42)\n",
    "xgb_classifier.fit(X, y_encoded)\n",
    "\n",
    "label_encoder = LabelEncoder()\n",
    "y_encoded = label_encoder.fit_transform(y)\n",
    "\n",
    "# load the test data and make predictions\n",
    "test_data = pd.read_csv('data/test.csv')\n",
    "y_pred = xgb_classifier.predict(test_data)\n",
    "y_pred = label_encoder.inverse_transform(y_pred)\n",
    "\n",
    "# create the submission DataFrame and save it to a CSV file\n",
    "prognosis = pd.DataFrame(y_pred, columns=['prognosis'])\n",
    "prognosis = prognosis.iloc[:len(y_pred)] \n",
    "submission = pd.concat([test_data['id'], prognosis], axis=1)\n",
    "submission.to_csv('submission.csv', index=False)\n"
   ]
  },
  {
   "cell_type": "code",
   "execution_count": null,
   "metadata": {},
   "outputs": [],
   "source": []
  }
 ],
 "metadata": {
  "kernelspec": {
   "display_name": "ps_s3e13",
   "language": "python",
   "name": "python3"
  },
  "language_info": {
   "codemirror_mode": {
    "name": "ipython",
    "version": 3
   },
   "file_extension": ".py",
   "mimetype": "text/x-python",
   "name": "python",
   "nbconvert_exporter": "python",
   "pygments_lexer": "ipython3",
   "version": "3.11.3"
  },
  "orig_nbformat": 4
 },
 "nbformat": 4,
 "nbformat_minor": 2
}
